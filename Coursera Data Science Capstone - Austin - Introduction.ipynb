{
 "cells": [
  {
   "cell_type": "markdown",
   "metadata": {},
   "source": [
    "## Introduction"
   ]
  },
  {
   "cell_type": "markdown",
   "metadata": {},
   "source": [
    "### Business Problem"
   ]
  },
  {
   "cell_type": "markdown",
   "metadata": {},
   "source": [
    "I will be attempting to leverage data and analysis as well as some business knowledge to assist an entrepreneur in deciding a location for a new business. The chosen business is a **hookah bar** and the chosen city is **Austin, TX** \n",
    "\n",
    "I chose a **hookah bar** becuase it is exotic, multicultural, and in my experience, a good place for the youth in a large city to mingle. I chose **Austin** because it is growing tech and education hub and would be a great city for a niche business like this to earn profits.\n",
    "\n",
    "My selection and analysis of data will be aimed at segmenting the city and identifying  a location close to the **downtown/central business district** that is not yet saturated with hookah bars. Part of my analysis will be to use the data to arrive at a definition of how many hookah bars in one area would be considered saturated."
   ]
  },
  {
   "cell_type": "markdown",
   "metadata": {},
   "source": []
  },
  {
   "cell_type": "markdown",
   "metadata": {},
   "source": []
  },
  {
   "cell_type": "code",
   "execution_count": null,
   "metadata": {},
   "outputs": [],
   "source": []
  }
 ],
 "metadata": {
  "kernelspec": {
   "display_name": "Python 3",
   "language": "python",
   "name": "python3"
  },
  "language_info": {
   "codemirror_mode": {
    "name": "ipython",
    "version": 3
   },
   "file_extension": ".py",
   "mimetype": "text/x-python",
   "name": "python",
   "nbconvert_exporter": "python",
   "pygments_lexer": "ipython3",
   "version": "3.7.1"
  }
 },
 "nbformat": 4,
 "nbformat_minor": 2
}
